{
  "nbformat": 4,
  "nbformat_minor": 0,
  "metadata": {
    "colab": {
      "provenance": []
    },
    "kernelspec": {
      "name": "python3",
      "display_name": "Python 3"
    },
    "language_info": {
      "name": "python"
    }
  },
  "cells": [
    {
      "cell_type": "markdown",
      "source": [
        "### **Python Basics Questions**"
      ],
      "metadata": {
        "id": "_k2G3m-HLD8s"
      }
    },
    {
      "cell_type": "markdown",
      "source": [
        "1.What is Python, and why is it popular?\n",
        "\n",
        "- Python is a high-level, interpreted programming language known for its simple syntax and readability.\n",
        "It's popular because:\n",
        "1. Easy to learn\n",
        "2.Large community support\n",
        "3.Extensive libraries\n",
        "4.Used in Data Science, Web Dev, Automation, etc.\n",
        "\n",
        "2.What is an interpreter in Python?\n",
        "\n",
        "- An interpreter reads and executes code line-by-line.\n",
        "Python uses an interpreter to translate human-readable code into machine code at runtime.\n",
        "\n",
        "3.What are pre-defined keywords in Python?\n",
        "\n",
        "- These are reserved words that have special meaning in Python (like if, else, while, for).\n",
        "\n",
        "4.Can keywords be used as variable names?\n",
        "\n",
        "- No, keywords cannot be used as variable names.\n",
        "\n",
        "5.What is mutability in Python?\n",
        "- Mutability refers to whether an object’s value can change after creation.\n",
        "Mutable: List, Dict | Immutable: Tuple, String\n",
        "\n",
        "6.Why are lists mutable, but tuples are immutable?\n",
        "- Lists are designed to store dynamic data, so you can change elements.\n",
        "Tuples are for fixed data and are stored with less overhead.\n",
        "\n",
        "7.What is the difference between “==” and “is” operators in Python?\n",
        "- '==' compares values, 'is' checks identity (whether two objects refer to same memory).\n",
        "\n",
        "8.What are logical operators in Python?\n",
        "- Logical operators: and, or, not — used to combine conditional statements.\n",
        "\n",
        "9.What is type casting in Python?\n",
        "- Type casting is converting data from one type to another (e.g., str to int).\n",
        "\n",
        "10.What is the difference between implicit and explicit type casting?\n",
        "- Implicit: Done by Python automatically.\n",
        "Explicit: Done manually using functions like int(), float(), str().\n",
        "\n",
        "11.What is the purpose of conditional statements in Python?\n",
        "- To execute different code depending on whether a condition is True or False.\n",
        "\n",
        "12.How does the elif statement work?\n",
        "- It checks another condition if the previous if condition is False.\n",
        "\n",
        "13.What is the difference between for and while loops?\n",
        "- for loop: Iterates over sequence.\n",
        "while loop: Runs as long as condition is True.\n",
        "\n",
        "14.Describe a scenario where a while loop is more suitable than a for loop?\n",
        "- Use while when you don’t know how many times to loop (e.g., until user inputs correct password)."
      ],
      "metadata": {
        "id": "eeH3FZdVNZK7"
      }
    },
    {
      "cell_type": "markdown",
      "source": [
        "**Practical Questions**"
      ],
      "metadata": {
        "id": "vlQeT_4WNbEe"
      }
    },
    {
      "cell_type": "code",
      "source": [
        "#1.Write a Python program to print \"Hello,World!\"\n",
        "print(\"Hello, World!\")"
      ],
      "metadata": {
        "colab": {
          "base_uri": "https://localhost:8080/"
        },
        "id": "lLJicekwTBA9",
        "outputId": "3eed4994-1bf8-47b3-dd5f-c2899eefd787"
      },
      "execution_count": null,
      "outputs": [
        {
          "output_type": "stream",
          "name": "stdout",
          "text": [
            "Hello, World!\n"
          ]
        }
      ]
    },
    {
      "cell_type": "code",
      "source": [
        "#2.Write a Python program that displays your name and age.\n",
        "print(\"Name: Aniket\")\n",
        "print(\"Age: 22\")"
      ],
      "metadata": {
        "colab": {
          "base_uri": "https://localhost:8080/"
        },
        "id": "nFhCy47ITgkl",
        "outputId": "6cdc00b9-7b3b-427e-b51f-4f863cc90b93"
      },
      "execution_count": null,
      "outputs": [
        {
          "output_type": "stream",
          "name": "stdout",
          "text": [
            "Name: Aniket\n",
            "Age: 22\n"
          ]
        }
      ]
    },
    {
      "cell_type": "code",
      "source": [
        "#3.Write code to print all the pre-defined keywords in Python using the keyword library.\n",
        "import keyword\n",
        "print(keyword.kwlist)"
      ],
      "metadata": {
        "colab": {
          "base_uri": "https://localhost:8080/"
        },
        "id": "y49h0xhrUZUq",
        "outputId": "5da69ac5-b92d-4f5c-8c1f-ca5dc03fc7b5"
      },
      "execution_count": 2,
      "outputs": [
        {
          "output_type": "stream",
          "name": "stdout",
          "text": [
            "['False', 'None', 'True', 'and', 'as', 'assert', 'async', 'await', 'break', 'class', 'continue', 'def', 'del', 'elif', 'else', 'except', 'finally', 'for', 'from', 'global', 'if', 'import', 'in', 'is', 'lambda', 'nonlocal', 'not', 'or', 'pass', 'raise', 'return', 'try', 'while', 'with', 'yield']\n"
          ]
        }
      ]
    },
    {
      "cell_type": "code",
      "source": [
        "#4.Write a program that checks if a given word is a Python keyword.\n",
        "word = input(\"Enter a word: \")\n",
        "print(f\"{word} is a keyword: {keyword.iskeyword(word)}\")"
      ],
      "metadata": {
        "colab": {
          "base_uri": "https://localhost:8080/"
        },
        "id": "bUB-7nxNUwzY",
        "outputId": "b055ec1e-d231-4027-9d9c-812777c87c06"
      },
      "execution_count": 3,
      "outputs": [
        {
          "output_type": "stream",
          "name": "stdout",
          "text": [
            "Enter a word: False\n",
            "False is a keyword: True\n"
          ]
        }
      ]
    },
    {
      "cell_type": "code",
      "source": [
        "#5.Create a list and tuple in Python, and demonstrate how attempting to change an element works differently for each.\n",
        "def test_mutable_immutable(a_list, a_tuple):\n",
        "    a_list[0] = 'Changed'\n",
        "    try:\n",
        "        a_tuple[0] = 'Changed'\n",
        "    except TypeError:\n",
        "        print(\"Cannot change tuple (Immutable)\")\n",
        "\n",
        "lst = [1, 2, 3]\n",
        "tpl = (1, 2, 3)\n",
        "test_mutable_immutable(lst, tpl)\n",
        "print(\"List after change:\", lst)\n",
        "print(\"Tuple after change:\", tpl)"
      ],
      "metadata": {
        "id": "ADQx8HbZVapZ",
        "colab": {
          "base_uri": "https://localhost:8080/"
        },
        "outputId": "b4c9a364-a2ab-45d8-f3c5-56c4bebf8090"
      },
      "execution_count": 4,
      "outputs": [
        {
          "output_type": "stream",
          "name": "stdout",
          "text": [
            "Cannot change tuple (Immutable)\n",
            "List after change: ['Changed', 2, 3]\n",
            "Tuple after change: (1, 2, 3)\n"
          ]
        }
      ]
    },
    {
      "cell_type": "code",
      "source": [
        "#6.Write a function to demonstrate the behavior of mutable and immutable arguments.\n",
        "x = float(input(\"Enter first number: \"))\n",
        "y = float(input(\"Enter second number: \"))\n",
        "print(\"Sum:\", x + y)\n",
        "print(\"Difference:\", x - y)\n",
        "print(\"Product:\", x * y)\n",
        "print(\"Quotient:\", x / y)"
      ],
      "metadata": {
        "colab": {
          "base_uri": "https://localhost:8080/"
        },
        "id": "8TNYFAVCDBwt",
        "outputId": "a1e7cf21-f99f-4cf0-dee0-77596960d8a0"
      },
      "execution_count": 6,
      "outputs": [
        {
          "output_type": "stream",
          "name": "stdout",
          "text": [
            "Enter first number: 3\n",
            "Enter second number: 5\n",
            "Sum: 8.0\n",
            "Difference: -2.0\n",
            "Product: 15.0\n",
            "Quotient: 0.6\n"
          ]
        }
      ]
    },
    {
      "cell_type": "code",
      "source": [
        "#7.Write a program that performs basic arithmetic operations on two user-input numbers.\n",
        "a = True\n",
        "b = False\n",
        "print(\"a and b:\", a and b)\n",
        "print(\"a or b:\", a or b)\n",
        "print(\"not a:\", not a)"
      ],
      "metadata": {
        "colab": {
          "base_uri": "https://localhost:8080/"
        },
        "id": "iY4NgFF3EHIl",
        "outputId": "4a3dce60-f8bb-4cda-d4db-6db87ee211fe"
      },
      "execution_count": 1,
      "outputs": [
        {
          "output_type": "stream",
          "name": "stdout",
          "text": [
            "a and b: False\n",
            "a or b: True\n",
            "not a: False\n"
          ]
        }
      ]
    },
    {
      "cell_type": "code",
      "source": [
        "#8.Write a program to demonstrate the use of logical operators.\n",
        "my_list = [10, 20, 30]\n",
        "my_tuple = (10, 20, 30)\n",
        "my_list[0] = 100\n",
        "print(\"Modified list:\", my_list)\n",
        "try:\n",
        "    my_tuple[0] = 100\n",
        "except TypeError:\n",
        "    print(\"Cannot modify tuple\")\n"
      ],
      "metadata": {
        "colab": {
          "base_uri": "https://localhost:8080/"
        },
        "id": "FQKrKSIzdYxM",
        "outputId": "23ca0705-3829-40e4-e169-7235fbb7807f"
      },
      "execution_count": 2,
      "outputs": [
        {
          "output_type": "stream",
          "name": "stdout",
          "text": [
            "Modified list: [100, 20, 30]\n",
            "Cannot modify tuple\n"
          ]
        }
      ]
    },
    {
      "cell_type": "code",
      "source": [
        "#9. Write a Python program to convert user input from string to integer, float, and boolean types.\n",
        "val = input(\"Enter a value: \")\n",
        "print(\"As integer:\", int(val))\n",
        "print(\"As float:\", float(val))\n",
        "print(\"As boolean:\", bool(val))"
      ],
      "metadata": {
        "colab": {
          "base_uri": "https://localhost:8080/"
        },
        "id": "MM7o4YdLdn7j",
        "outputId": "7a1c9edf-7694-4dd5-e338-f2888e739d6a"
      },
      "execution_count": 3,
      "outputs": [
        {
          "output_type": "stream",
          "name": "stdout",
          "text": [
            "Enter a value: 2\n",
            "As integer: 2\n",
            "As float: 2.0\n",
            "As boolean: True\n"
          ]
        }
      ]
    },
    {
      "cell_type": "code",
      "source": [
        "#10.Write code to demonstrate type casting with list elements.\n",
        "lst = ['1', '2', '3']\n",
        "int_lst = list(map(int, lst))\n",
        "print(int_lst)\n"
      ],
      "metadata": {
        "colab": {
          "base_uri": "https://localhost:8080/"
        },
        "id": "AkpUizQkeCJg",
        "outputId": "aff3ca59-4d0c-4d1d-841b-1a14c6661428"
      },
      "execution_count": 4,
      "outputs": [
        {
          "output_type": "stream",
          "name": "stdout",
          "text": [
            "[1, 2, 3]\n"
          ]
        }
      ]
    },
    {
      "cell_type": "code",
      "source": [
        "#11.Write a program that checks if a number is positive, negative, or zero.\n",
        "num = float(input(\"Enter number: \"))\n",
        "if num > 0:\n",
        "    print(\"Positive\")\n",
        "elif num < 0:\n",
        "    print(\"Negative\")\n",
        "else:\n",
        "    print(\"Zero\")\n"
      ],
      "metadata": {
        "colab": {
          "base_uri": "https://localhost:8080/"
        },
        "id": "F8eMA5YyeQJW",
        "outputId": "8667fac4-a49b-4985-d916-0b1bd4405629"
      },
      "execution_count": 5,
      "outputs": [
        {
          "output_type": "stream",
          "name": "stdout",
          "text": [
            "Enter number: 3\n",
            "Positive\n"
          ]
        }
      ]
    },
    {
      "cell_type": "code",
      "source": [
        "#12.Write a for loop to print numbers from 1 to 10.\n",
        "for i in range(1, 11):\n",
        "    print(i)\n",
        "\n"
      ],
      "metadata": {
        "colab": {
          "base_uri": "https://localhost:8080/"
        },
        "id": "hzQR-EU1ebQQ",
        "outputId": "35741b55-6ea5-415e-d1f6-e5310c7fb2c8"
      },
      "execution_count": 6,
      "outputs": [
        {
          "output_type": "stream",
          "name": "stdout",
          "text": [
            "1\n",
            "2\n",
            "3\n",
            "4\n",
            "5\n",
            "6\n",
            "7\n",
            "8\n",
            "9\n",
            "10\n"
          ]
        }
      ]
    },
    {
      "cell_type": "code",
      "source": [
        "#13. Write a Python program to find the sum of all even numbers between 1 and 50.\n",
        "even_sum = sum(i for i in range(1, 51) if i % 2 == 0)\n",
        "print(\"Sum of even numbers (1–50):\", even_sum)\n"
      ],
      "metadata": {
        "colab": {
          "base_uri": "https://localhost:8080/"
        },
        "id": "AQBDe1rPeoGz",
        "outputId": "75bdf2c4-1061-47b8-afad-f23f25106417"
      },
      "execution_count": 7,
      "outputs": [
        {
          "output_type": "stream",
          "name": "stdout",
          "text": [
            "Sum of even numbers (1–50): 650\n"
          ]
        }
      ]
    },
    {
      "cell_type": "code",
      "source": [
        "#14.Write a program to reverse a string using a while loop.\n",
        "s = input(\"Enter a string: \")\n",
        "i = len(s) - 1\n",
        "rev = ''\n",
        "while i >= 0:\n",
        "    rev += s[i]\n",
        "    i -= 1\n",
        "print(\"Reversed string:\", rev)"
      ],
      "metadata": {
        "colab": {
          "base_uri": "https://localhost:8080/"
        },
        "id": "93P01qZ_exq2",
        "outputId": "e3db8b78-9180-4ab7-be3c-83f28ecffff5"
      },
      "execution_count": 8,
      "outputs": [
        {
          "output_type": "stream",
          "name": "stdout",
          "text": [
            "Enter a string: 42\n",
            "Reversed string: 24\n"
          ]
        }
      ]
    },
    {
      "cell_type": "code",
      "source": [
        "#15.Write a Python program to calculate the factorial of a number provided by the user using a while loop.\n",
        "n = int(input(\"Enter number to find factorial: \"))\n",
        "fact = 1\n",
        "while n > 1:\n",
        "    fact *= n\n",
        "    n -= 1\n",
        "print(\"Factorial:\", fact)"
      ],
      "metadata": {
        "colab": {
          "base_uri": "https://localhost:8080/"
        },
        "id": "EWnWNnH6e8Pw",
        "outputId": "59a790f1-de26-4b2f-af2d-30e310749b45"
      },
      "execution_count": 9,
      "outputs": [
        {
          "output_type": "stream",
          "name": "stdout",
          "text": [
            "Enter number to find factorial: 4\n",
            "Factorial: 24\n"
          ]
        }
      ]
    }
  ]
}